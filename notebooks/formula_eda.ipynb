{
 "cells": [
  {
   "cell_type": "code",
   "execution_count": 4,
   "metadata": {},
   "outputs": [],
   "source": [
    "import pandas as pd\n",
    "import pandas_profiling as pds\n",
    "import pandas_profiling as ProfileReport\n",
    "import glob"
   ]
  },
  {
   "cell_type": "code",
   "execution_count": 6,
   "metadata": {},
   "outputs": [],
   "source": [
    "#specify a pattern of the file and pass it as a parameter into a glob function\n",
    "csv_files = glob.glob('../data/raw/*.csv')\n",
    "#print csv_files which is a list of filenames\n",
    "print(csv_files)\n",
    " "
   ]
  },
  {
   "cell_type": "code",
   "execution_count": 6,
   "metadata": {},
   "outputs": [],
   "source": [
    "data_files = os.listdir('path/to/datafiles')\n",
    "\n",
    "\n",
    "def load_files(filenames):\n",
    "    regex = re.compile(r'^monthly_(\\d{4})_(\\d{4}-\\d{2}-\\d{2})\\.csv$')\n",
    "    matches = [m for m in map(regex.match, filenames) if m is not None]\n",
    "    for match in matches:\n",
    "    yield (pd.read_csv(\n",
    "                match.group(0),\n",
    "                usecols=['ID', 'Amount', 'SKU', 'Category']\n",
    "            )\n",
    "            .query('Category in [\"Outdoor\", \"Sports\"]')\n",
    "            .assign(store_id=match.group(1), date=match.group(2)) \n",
    "            .astype({'store_id': 'int', 'date': 'datetime64[ns]'}) \n",
    "        )\n"
   ]
  },
  {
   "cell_type": "code",
   "execution_count": 7,
   "metadata": {},
   "outputs": [
    {
     "data": {
      "text/plain": [
       "['../data/raw\\\\circuits.csv',\n",
       " '../data/raw\\\\constructors.csv',\n",
       " '../data/raw\\\\constructor_results.csv',\n",
       " '../data/raw\\\\constructor_standings.csv',\n",
       " '../data/raw\\\\drivers.csv',\n",
       " '../data/raw\\\\driver_standings.csv',\n",
       " '../data/raw\\\\lap_times.csv',\n",
       " '../data/raw\\\\pit_stops.csv',\n",
       " '../data/raw\\\\qualifying.csv',\n",
       " '../data/raw\\\\races.csv',\n",
       " '../data/raw\\\\results.csv',\n",
       " '../data/raw\\\\seasons.csv',\n",
       " '../data/raw\\\\status.csv']"
      ]
     },
     "execution_count": 7,
     "metadata": {},
     "output_type": "execute_result"
    }
   ],
   "source": [
    "#intialize empty list that we will append dataframes to\n",
    "csv_list =[csv for csv in csv_files]\n",
    "csv_list\n",
    "# # write a for loop that will go through each of the file name through globbing and the end result will be the list of dataframes\n",
    "# for filename in csv_files:\n",
    "#     data = pd.read_csv(filename)\n",
    "#     list_data.append(data)"
   ]
  },
  {
   "cell_type": "code",
   "execution_count": null,
   "metadata": {},
   "outputs": [],
   "source": []
  }
 ],
 "metadata": {
  "kernelspec": {
   "display_name": "Python 3",
   "language": "python",
   "name": "python3"
  },
  "language_info": {
   "codemirror_mode": {
    "name": "ipython",
    "version": 3
   },
   "file_extension": ".py",
   "mimetype": "text/x-python",
   "name": "python",
   "nbconvert_exporter": "python",
   "pygments_lexer": "ipython3",
   "version": "3.7.6"
  }
 },
 "nbformat": 4,
 "nbformat_minor": 4
}
